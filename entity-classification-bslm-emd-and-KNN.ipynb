{
  "nbformat": 4,
  "nbformat_minor": 0,
  "metadata": {
    "colab": {
      "provenance": [],
      "machine_shape": "hm",
      "gpuType": "L4"
    },
    "kernelspec": {
      "name": "python3",
      "display_name": "Python 3"
    },
    "language_info": {
      "name": "python"
    },
    "accelerator": "GPU"
  },
  "cells": [
    {
      "cell_type": "code",
      "execution_count": 2,
      "metadata": {
        "colab": {
          "base_uri": "https://localhost:8080/"
        },
        "id": "RaguJswrxUUk",
        "outputId": "8d1b4f04-91ae-42d4-ad6a-3a80c33951dc"
      },
      "outputs": [
        {
          "output_type": "stream",
          "name": "stdout",
          "text": [
            "1928/1928 [==============================] - 12s 6ms/step - loss: 0.0014 - accuracy: 1.0000\n",
            "Test accuracy: 0.9999513626098633\n"
          ]
        }
      ],
      "source": [
        "import pandas as pd\n",
        "from huggingface_hub import hf_hub_download\n",
        "from keras.preprocessing.text import tokenizer_from_json\n",
        "from keras.preprocessing.sequence import pad_sequences\n",
        "from keras.models import load_model\n",
        "import numpy as np\n",
        "\n",
        "# Load the test dataset from Hugging Face with UTF-8 encoding\n",
        "test_dataset_path = hf_hub_download(repo_id='borono/entity-classifier-Embedding', filename='test_dataset.csv')\n",
        "test_dataset = pd.read_csv(test_dataset_path)\n",
        "\n",
        "# Load the model and tokenizer from Hugging Face\n",
        "model_path = hf_hub_download(repo_id='borono/entity-classifier-Embedding', filename='KNN.h5')\n",
        "tokenizer_path = hf_hub_download(repo_id='borono/entity-classifier-Embedding', filename='tokenizer.json')\n",
        "\n",
        "# Load tokenizer\n",
        "with open(tokenizer_path, 'r', encoding='utf-8') as f:\n",
        "    tokenizer_data = f.read()\n",
        "\n",
        "tokenizer = tokenizer_from_json(tokenizer_data)\n",
        "\n",
        "# Tokenize and pad the sequences\n",
        "max_len = 100  # Set the max_len based on your model's training configuration\n",
        "test_sequences = tokenizer.texts_to_sequences(test_dataset['title'])\n",
        "X_test = pad_sequences(test_sequences, maxlen=max_len)\n",
        "y_test = pd.to_numeric(test_dataset['entity'], errors='coerce').fillna(0).astype(int)\n",
        "\n",
        "# Load model\n",
        "model = load_model(model_path)\n",
        "\n",
        "# Evaluate model on test dataset\n",
        "loss, accuracy = model.evaluate(X_test, y_test)\n",
        "print(f'Test accuracy: {accuracy}')\n"
      ]
    }
  ]
}