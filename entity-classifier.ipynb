{
  "nbformat": 4,
  "nbformat_minor": 0,
  "metadata": {
    "colab": {
      "provenance": []
    },
    "kernelspec": {
      "name": "python3",
      "display_name": "Python 3"
    },
    "language_info": {
      "name": "python"
    }
  },
  "cells": [
    {
      "cell_type": "code",
      "execution_count": 2,
      "metadata": {
        "colab": {
          "base_uri": "https://localhost:8080/"
        },
        "id": "ZcRCj5etHVOt",
        "outputId": "728deb85-bca3-427d-d8d4-7e5a845d1412"
      },
      "outputs": [
        {
          "output_type": "stream",
          "name": "stdout",
          "text": [
            "Accuracy: 0.37\n"
          ]
        }
      ],
      "source": [
        "import pandas as pd\n",
        "import joblib\n",
        "from huggingface_hub import hf_hub_download\n",
        "from sklearn.metrics import accuracy_score\n",
        "import numpy as np\n",
        "\n",
        "# Load the test dataset from Hugging Face with UTF-8 encoding\n",
        "test_dataset_path = hf_hub_download(repo_id='borono/my-naive-bayes-model', filename='test_dataset_test.csv')\n",
        "test_dataset = pd.read_csv(test_dataset_path)\n",
        "\n",
        "# Load the model and vectorizer from Hugging Face\n",
        "model_path = hf_hub_download(repo_id='borono/my-naive-bayes-model', filename='naive_bayes_model.joblib')\n",
        "vectorizer_path = hf_hub_download(repo_id='borono/my-naive-bayes-model', filename='tfidf_vectorizer.joblib')\n",
        "\n",
        "# Load the model and vectorizer using joblib\n",
        "model = joblib.load(model_path)\n",
        "vectorizer = joblib.load(vectorizer_path)\n",
        "\n",
        "# Assuming 'entity' is the target column in your test dataset\n",
        "y_true = test_dataset['entity'].astype(str)\n",
        "titles = test_dataset['title']\n",
        "\n",
        "# Define batch size\n",
        "batch_size = 1000\n",
        "num_batches = int(np.ceil(len(titles) / batch_size))\n",
        "\n",
        "y_pred = []\n",
        "\n",
        "# Process the test data in batches\n",
        "for i in range(num_batches):\n",
        "    start_idx = i * batch_size\n",
        "    end_idx = (i + 1) * batch_size\n",
        "    X_batch = titles[start_idx:end_idx]\n",
        "    X_batch_vectorized = vectorizer.transform(X_batch)\n",
        "    y_batch_pred = model.predict(X_batch_vectorized)\n",
        "    y_pred.extend(y_batch_pred.astype(str))\n",
        "\n",
        "# Evaluate the model's performance\n",
        "accuracy = accuracy_score(y_true, y_pred)\n",
        "print(f\"Accuracy: {accuracy:.2f}\")\n"
      ]
    }
  ]
}